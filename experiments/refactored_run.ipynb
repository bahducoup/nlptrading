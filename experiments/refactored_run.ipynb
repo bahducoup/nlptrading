{
  "cells": [
    {
      "cell_type": "markdown",
      "source": [
        "#This Notebook contains the first runthrough.\n"
      ],
      "metadata": {
        "id": "5WacOz4xKncy"
      }
    },
    {
      "cell_type": "code",
      "source": [
        "!git clone https://github.com/bahducoup/nlptrading.git"
      ],
      "metadata": {
        "id": "posjj2RSKCwS",
        "outputId": "a22f8058-f8bf-476c-8c09-d8fb34aa5eaf",
        "colab": {
          "base_uri": "https://localhost:8080/"
        }
      },
      "execution_count": 1,
      "outputs": [
        {
          "output_type": "stream",
          "name": "stdout",
          "text": [
            "Cloning into 'nlptrading'...\n",
            "remote: Enumerating objects: 47, done.\u001b[K\n",
            "remote: Counting objects: 100% (47/47), done.\u001b[K\n",
            "remote: Compressing objects: 100% (32/32), done.\u001b[K\n",
            "remote: Total 47 (delta 19), reused 33 (delta 10), pack-reused 0\u001b[K\n",
            "Unpacking objects: 100% (47/47), done.\n"
          ]
        }
      ]
    },
    {
      "cell_type": "markdown",
      "metadata": {
        "id": "5-gOqABn6uZf"
      },
      "source": [
        "#There are 2 ways of downloading the data.\n",
        "\n",
        "### To use kaggle follow the following steps\n",
        "\n",
        "1. Go to your account, Scroll to API section and Click Expire API Token to remove previous tokens\n",
        "\n",
        "2. Click on Create New API Token - It will download kaggle.json file on your machine.\n",
        "\n",
        "3. In the next step, upload that 'kaggle.json' file\n",
        "\n",
        "### Otherwise Download from google storage\n",
        "\n"
      ]
    },
    {
      "cell_type": "code",
      "execution_count": null,
      "metadata": {
        "id": "LSbxMT541YIv"
      },
      "outputs": [],
      "source": [
        "from google.colab import files\n",
        "import matplotlib.pyplot as plt\n",
        "\n",
        "files.upload()"
      ]
    },
    {
      "cell_type": "code",
      "execution_count": null,
      "metadata": {
        "id": "_yCzPGpJzOg1"
      },
      "outputs": [],
      "source": [
        "! pip install -q kaggle"
      ]
    },
    {
      "cell_type": "code",
      "execution_count": null,
      "metadata": {
        "id": "mD6yn_cf1hkY"
      },
      "outputs": [],
      "source": [
        "! mkdir ~/.kaggle\n",
        "! cp kaggle.json ~/.kaggle/\n",
        "! chmod 600 ~/.kaggle/kaggle.json\n",
        "! kaggle datasets download paultimothymooney/stock-market-data\n",
        "! unzip stock-market-data.zip\n",
        "! mv stock_market_data nlptrading/dataset/stock_market_data"
      ]
    },
    {
      "cell_type": "markdown",
      "metadata": {
        "id": "BapQ-h-I4YBA"
      },
      "source": [
        "We need to create a dataset where: \\\\\n",
        "  X contains:\n",
        "\n",
        "1.   the 10 last OWL_CVs\n",
        "2.   10 weeks of wednesday OWL_CVs\n",
        "3.   Open\n",
        "3.   Month\n",
        "4.   Day of Week\n",
        "  \n",
        "Y contains:\n",
        "\n",
        "1.   High, Low, Volume, Close\n",
        "2.   2 (tomorrow), 3, 4, 5, 6, 7, 8 (Week from now), OWL_CVs \\\\\n",
        "  a. Note: 2 High will be max of 1 High and 2 High \\\\\n",
        "  b. Same with Low\n",
        "3.   Month OWL_CV\n",
        "4.   3 Month OWL_CV"
      ]
    },
    {
      "cell_type": "markdown",
      "metadata": {
        "id": "EMoPdZIvlbD7"
      },
      "source": [
        "Processing the different exchanges:\n",
        "\n",
        "\n",
        "1.   Keep track of stocks we've seen\n",
        "2.   If there is a new stock, add it to the table\n",
        "3.   For each row, store the stock symbol\n",
        "\n",
        "\n",
        "Possible Errors\n",
        "\n",
        "* Stocks might be repeated in different exchanges under different names\n",
        "* Stocks might have different information in different exchanges\n",
        "\n",
        "\n"
      ]
    },
    {
      "cell_type": "markdown",
      "metadata": {
        "id": "YGEcfFJf3Ai2"
      },
      "source": [
        "Start Cleaning Data\n",
        "\n",
        "\n",
        "\n",
        "1.   Remove rows where a stock wasn't traded (Volume = 0)\n",
        "2.   Remove rows that were Nan Values\n",
        "3.   Keep only the stocks that have .99 percent of the data\n",
        "\n",
        "  3.1 We keep 2152 / 3538 stocks (4/7) and they are clean\n",
        "\n"
      ]
    },
    {
      "cell_type": "code",
      "execution_count": null,
      "metadata": {
        "id": "T6pKArvb7WwL"
      },
      "outputs": [],
      "source": [
        "#to run processing of python files, run this command:\n",
        "from nlptrading.src.preprocessing.kaggle import process_owlcv_kaggle\n",
        "process_owlcv_kaggle()"
      ]
    },
    {
      "cell_type": "markdown",
      "metadata": {
        "id": "R-LVjuRI41Hq"
      },
      "source": [
        "Abberviation: OWL_CV (Open, High, Low, Close, Volume)"
      ]
    },
    {
      "cell_type": "code",
      "execution_count": 2,
      "metadata": {
        "colab": {
          "base_uri": "https://localhost:8080/"
        },
        "id": "-2one7fwcmgn",
        "outputId": "bfb9c1d5-6f0d-464a-d1e2-7b819c5e6846"
      },
      "outputs": [
        {
          "output_type": "stream",
          "name": "stdout",
          "text": [
            "Updated property [core/project].\n"
          ]
        }
      ],
      "source": [
        "from google.colab import auth\n",
        "auth.authenticate_user()\n",
        "\n",
        "# https://cloud.google.com/resource-manager/docs/creating-managing-projects\n",
        "project_id = 'nlptrading'\n",
        "!gcloud config set project {project_id}"
      ]
    },
    {
      "cell_type": "markdown",
      "metadata": {
        "id": "uMkZWT2wgR74"
      },
      "source": [
        "The Next section uploads the datasets to Google Storage. As such it is commented out"
      ]
    },
    {
      "cell_type": "code",
      "execution_count": 3,
      "metadata": {
        "id": "-6vUbftycmVJ"
      },
      "outputs": [],
      "source": [
        "# import uuid\n",
        "# # Make a unique bucket to which we'll upload the file.\n",
        "# # (GCS buckets are part of a single global namespace.)\n",
        "# bucket_name = 'nlptrading-dataset'\n",
        "\n",
        "# # Full reference: https://cloud.google.com/storage/docs/gsutil/commands/mb\n",
        "# !gsutil mb gs://{bucket_name}\n",
        "\n",
        "# # Copy the file to our new bucket.\n",
        "# # Full reference: https://cloud.google.com/storage/docs/gsutil/commands/cp\n",
        "# !gsutil -o GSUtil:parallel_composite_upload_threshold=150M  cp test_df.csv gs://{bucket_name}/\n",
        "# !gsutil -o GSUtil:parallel_composite_upload_threshold=150M  cp train_df.csv gs://{bucket_name}/\n",
        "  \n",
        "# # Finally, dump the contents of our newly copied file to make sure everything worked.\n",
        "# #!gsutil cat gs://{bucket_name}/to_upload.txt"
      ]
    },
    {
      "cell_type": "markdown",
      "metadata": {
        "id": "KNVUXvXKg8ui"
      },
      "source": [
        "Uncomment out the next sections to download the files form Google Storage "
      ]
    },
    {
      "cell_type": "code",
      "execution_count": 4,
      "metadata": {
        "colab": {
          "base_uri": "https://localhost:8080/"
        },
        "id": "p5inskoBgaJl",
        "outputId": "c8713a83-c958-463a-d845-5ea319e7a287"
      },
      "outputs": [
        {
          "output_type": "stream",
          "name": "stdout",
          "text": [
            "Copying gs://nlptrading-dataset/test_df.csv...\n",
            "- [1 files][384.5 MiB/384.5 MiB]                                                \n",
            "Operation completed over 1 objects/384.5 MiB.                                    \n",
            "Copying gs://nlptrading-dataset/train_df.csv...\n",
            "/ [1 files][882.5 MiB/882.5 MiB]   72.6 MiB/s                                   \n",
            "Operation completed over 1 objects/882.5 MiB.                                    \n"
          ]
        }
      ],
      "source": [
        "# bucket_name = 'nlptrading-dataset'\n",
        "# !gsutil cp gs://{bucket_name}/test_df.csv test_df.csv\n",
        "# !gsutil cp gs://{bucket_name}/train_df.csv train_df.csv\n",
        "# !mv train_df.csv nlptrading/dataset/train_df.csv\n",
        "# !mv test_df.csv nlptrading/dataset/test_df.csv"
      ]
    },
    {
      "cell_type": "code",
      "execution_count": 5,
      "metadata": {
        "id": "_WUPisANrcYt"
      },
      "outputs": [],
      "source": [
        "import pandas as pd"
      ]
    },
    {
      "cell_type": "code",
      "execution_count": 6,
      "metadata": {
        "id": "5kPdWKoAH8Qj"
      },
      "outputs": [],
      "source": [
        "train_df = pd.read_csv('nlptrading/dataset/train_df.csv', index_col=0)\n",
        "train_df['Date'] = pd.to_datetime(train_df['Date'])\n",
        "\n",
        "test_df = pd.read_csv('nlptrading/dataset/test_df.csv', index_col=0)\n",
        "test_df['Date'] = pd.to_datetime(test_df['Date'])"
      ]
    },
    {
      "cell_type": "markdown",
      "metadata": {
        "id": "326gPkxb4GUd"
      },
      "source": [
        "Creating New Features\n",
        "\n",
        "\n",
        "\n",
        "1.   Percentage Increase\n",
        "2.   Percentage High, Low\n",
        "3.   Day of Week\n",
        "\n"
      ]
    },
    {
      "cell_type": "code",
      "execution_count": 7,
      "metadata": {
        "colab": {
          "base_uri": "https://localhost:8080/",
          "height": 659
        },
        "id": "ftDC7AJr38Kw",
        "outputId": "d409e3c4-2fc5-4e63-e092-425e122130cf"
      },
      "outputs": [
        {
          "output_type": "execute_result",
          "data": {
            "text/plain": [
              "               Date        Low       Open    Volume       High      Close  \\\n",
              "0        1990-06-28   9.968750  10.093750  176400.0  10.093750   9.968750   \n",
              "1        1990-06-29  10.000000  10.031250   69200.0  10.062500  10.062500   \n",
              "2        1990-07-02  10.000000  10.000000   62000.0  10.031250  10.031250   \n",
              "3        1990-07-03  10.031250  10.031250   29600.0  10.062500  10.062500   \n",
              "4        1990-07-05   9.656250   9.718750   31200.0   9.718750   9.687500   \n",
              "...             ...        ...        ...       ...        ...        ...   \n",
              "18936070 2015-12-24  71.940002  71.949997  243800.0  72.570000  72.349998   \n",
              "18936071 2015-12-28  71.769997  72.169998  444300.0  72.449997  72.379997   \n",
              "18936072 2015-12-29  72.330002  72.760002  266800.0  73.379997  72.849998   \n",
              "18936073 2015-12-30  72.489998  72.660004  245200.0  73.440002  72.589996   \n",
              "18936074 2015-12-31  72.080002  72.389999  335700.0  73.089996  72.129997   \n",
              "\n",
              "          Adjusted Close Symbol    Return  Day_of_week  weekday_0  weekday_1  \\\n",
              "0               2.215101    RIO  0.987616            3          0          0   \n",
              "1               2.235931    RIO  1.003115            4          0          0   \n",
              "2               2.228988    RIO  1.003125            0          1          0   \n",
              "3               2.235931    RIO  1.003115            1          0          1   \n",
              "4               2.152606    RIO  0.996785            3          0          0   \n",
              "...                  ...    ...       ...          ...        ...        ...   \n",
              "18936070       67.721214   MSCI  1.005559            3          0          0   \n",
              "18936071       67.749298   MSCI  1.002910            0          1          0   \n",
              "18936072       68.189255   MSCI  1.001237            1          0          1   \n",
              "18936073       67.945869   MSCI  0.999037            2          0          0   \n",
              "18936074       67.515259   MSCI  0.996408            3          0          0   \n",
              "\n",
              "          weekday_2  weekday_3  weekday_4  \n",
              "0                 0          1          0  \n",
              "1                 0          0          1  \n",
              "2                 0          0          0  \n",
              "3                 0          0          0  \n",
              "4                 0          1          0  \n",
              "...             ...        ...        ...  \n",
              "18936070          0          1          0  \n",
              "18936071          0          0          0  \n",
              "18936072          0          0          0  \n",
              "18936073          1          0          0  \n",
              "18936074          0          1          0  \n",
              "\n",
              "[8269867 rows x 15 columns]"
            ],
            "text/html": [
              "\n",
              "  <div id=\"df-5791de8d-4b45-4173-82eb-878bbc4ca28a\">\n",
              "    <div class=\"colab-df-container\">\n",
              "      <div>\n",
              "<style scoped>\n",
              "    .dataframe tbody tr th:only-of-type {\n",
              "        vertical-align: middle;\n",
              "    }\n",
              "\n",
              "    .dataframe tbody tr th {\n",
              "        vertical-align: top;\n",
              "    }\n",
              "\n",
              "    .dataframe thead th {\n",
              "        text-align: right;\n",
              "    }\n",
              "</style>\n",
              "<table border=\"1\" class=\"dataframe\">\n",
              "  <thead>\n",
              "    <tr style=\"text-align: right;\">\n",
              "      <th></th>\n",
              "      <th>Date</th>\n",
              "      <th>Low</th>\n",
              "      <th>Open</th>\n",
              "      <th>Volume</th>\n",
              "      <th>High</th>\n",
              "      <th>Close</th>\n",
              "      <th>Adjusted Close</th>\n",
              "      <th>Symbol</th>\n",
              "      <th>Return</th>\n",
              "      <th>Day_of_week</th>\n",
              "      <th>weekday_0</th>\n",
              "      <th>weekday_1</th>\n",
              "      <th>weekday_2</th>\n",
              "      <th>weekday_3</th>\n",
              "      <th>weekday_4</th>\n",
              "    </tr>\n",
              "  </thead>\n",
              "  <tbody>\n",
              "    <tr>\n",
              "      <th>0</th>\n",
              "      <td>1990-06-28</td>\n",
              "      <td>9.968750</td>\n",
              "      <td>10.093750</td>\n",
              "      <td>176400.0</td>\n",
              "      <td>10.093750</td>\n",
              "      <td>9.968750</td>\n",
              "      <td>2.215101</td>\n",
              "      <td>RIO</td>\n",
              "      <td>0.987616</td>\n",
              "      <td>3</td>\n",
              "      <td>0</td>\n",
              "      <td>0</td>\n",
              "      <td>0</td>\n",
              "      <td>1</td>\n",
              "      <td>0</td>\n",
              "    </tr>\n",
              "    <tr>\n",
              "      <th>1</th>\n",
              "      <td>1990-06-29</td>\n",
              "      <td>10.000000</td>\n",
              "      <td>10.031250</td>\n",
              "      <td>69200.0</td>\n",
              "      <td>10.062500</td>\n",
              "      <td>10.062500</td>\n",
              "      <td>2.235931</td>\n",
              "      <td>RIO</td>\n",
              "      <td>1.003115</td>\n",
              "      <td>4</td>\n",
              "      <td>0</td>\n",
              "      <td>0</td>\n",
              "      <td>0</td>\n",
              "      <td>0</td>\n",
              "      <td>1</td>\n",
              "    </tr>\n",
              "    <tr>\n",
              "      <th>2</th>\n",
              "      <td>1990-07-02</td>\n",
              "      <td>10.000000</td>\n",
              "      <td>10.000000</td>\n",
              "      <td>62000.0</td>\n",
              "      <td>10.031250</td>\n",
              "      <td>10.031250</td>\n",
              "      <td>2.228988</td>\n",
              "      <td>RIO</td>\n",
              "      <td>1.003125</td>\n",
              "      <td>0</td>\n",
              "      <td>1</td>\n",
              "      <td>0</td>\n",
              "      <td>0</td>\n",
              "      <td>0</td>\n",
              "      <td>0</td>\n",
              "    </tr>\n",
              "    <tr>\n",
              "      <th>3</th>\n",
              "      <td>1990-07-03</td>\n",
              "      <td>10.031250</td>\n",
              "      <td>10.031250</td>\n",
              "      <td>29600.0</td>\n",
              "      <td>10.062500</td>\n",
              "      <td>10.062500</td>\n",
              "      <td>2.235931</td>\n",
              "      <td>RIO</td>\n",
              "      <td>1.003115</td>\n",
              "      <td>1</td>\n",
              "      <td>0</td>\n",
              "      <td>1</td>\n",
              "      <td>0</td>\n",
              "      <td>0</td>\n",
              "      <td>0</td>\n",
              "    </tr>\n",
              "    <tr>\n",
              "      <th>4</th>\n",
              "      <td>1990-07-05</td>\n",
              "      <td>9.656250</td>\n",
              "      <td>9.718750</td>\n",
              "      <td>31200.0</td>\n",
              "      <td>9.718750</td>\n",
              "      <td>9.687500</td>\n",
              "      <td>2.152606</td>\n",
              "      <td>RIO</td>\n",
              "      <td>0.996785</td>\n",
              "      <td>3</td>\n",
              "      <td>0</td>\n",
              "      <td>0</td>\n",
              "      <td>0</td>\n",
              "      <td>1</td>\n",
              "      <td>0</td>\n",
              "    </tr>\n",
              "    <tr>\n",
              "      <th>...</th>\n",
              "      <td>...</td>\n",
              "      <td>...</td>\n",
              "      <td>...</td>\n",
              "      <td>...</td>\n",
              "      <td>...</td>\n",
              "      <td>...</td>\n",
              "      <td>...</td>\n",
              "      <td>...</td>\n",
              "      <td>...</td>\n",
              "      <td>...</td>\n",
              "      <td>...</td>\n",
              "      <td>...</td>\n",
              "      <td>...</td>\n",
              "      <td>...</td>\n",
              "      <td>...</td>\n",
              "    </tr>\n",
              "    <tr>\n",
              "      <th>18936070</th>\n",
              "      <td>2015-12-24</td>\n",
              "      <td>71.940002</td>\n",
              "      <td>71.949997</td>\n",
              "      <td>243800.0</td>\n",
              "      <td>72.570000</td>\n",
              "      <td>72.349998</td>\n",
              "      <td>67.721214</td>\n",
              "      <td>MSCI</td>\n",
              "      <td>1.005559</td>\n",
              "      <td>3</td>\n",
              "      <td>0</td>\n",
              "      <td>0</td>\n",
              "      <td>0</td>\n",
              "      <td>1</td>\n",
              "      <td>0</td>\n",
              "    </tr>\n",
              "    <tr>\n",
              "      <th>18936071</th>\n",
              "      <td>2015-12-28</td>\n",
              "      <td>71.769997</td>\n",
              "      <td>72.169998</td>\n",
              "      <td>444300.0</td>\n",
              "      <td>72.449997</td>\n",
              "      <td>72.379997</td>\n",
              "      <td>67.749298</td>\n",
              "      <td>MSCI</td>\n",
              "      <td>1.002910</td>\n",
              "      <td>0</td>\n",
              "      <td>1</td>\n",
              "      <td>0</td>\n",
              "      <td>0</td>\n",
              "      <td>0</td>\n",
              "      <td>0</td>\n",
              "    </tr>\n",
              "    <tr>\n",
              "      <th>18936072</th>\n",
              "      <td>2015-12-29</td>\n",
              "      <td>72.330002</td>\n",
              "      <td>72.760002</td>\n",
              "      <td>266800.0</td>\n",
              "      <td>73.379997</td>\n",
              "      <td>72.849998</td>\n",
              "      <td>68.189255</td>\n",
              "      <td>MSCI</td>\n",
              "      <td>1.001237</td>\n",
              "      <td>1</td>\n",
              "      <td>0</td>\n",
              "      <td>1</td>\n",
              "      <td>0</td>\n",
              "      <td>0</td>\n",
              "      <td>0</td>\n",
              "    </tr>\n",
              "    <tr>\n",
              "      <th>18936073</th>\n",
              "      <td>2015-12-30</td>\n",
              "      <td>72.489998</td>\n",
              "      <td>72.660004</td>\n",
              "      <td>245200.0</td>\n",
              "      <td>73.440002</td>\n",
              "      <td>72.589996</td>\n",
              "      <td>67.945869</td>\n",
              "      <td>MSCI</td>\n",
              "      <td>0.999037</td>\n",
              "      <td>2</td>\n",
              "      <td>0</td>\n",
              "      <td>0</td>\n",
              "      <td>1</td>\n",
              "      <td>0</td>\n",
              "      <td>0</td>\n",
              "    </tr>\n",
              "    <tr>\n",
              "      <th>18936074</th>\n",
              "      <td>2015-12-31</td>\n",
              "      <td>72.080002</td>\n",
              "      <td>72.389999</td>\n",
              "      <td>335700.0</td>\n",
              "      <td>73.089996</td>\n",
              "      <td>72.129997</td>\n",
              "      <td>67.515259</td>\n",
              "      <td>MSCI</td>\n",
              "      <td>0.996408</td>\n",
              "      <td>3</td>\n",
              "      <td>0</td>\n",
              "      <td>0</td>\n",
              "      <td>0</td>\n",
              "      <td>1</td>\n",
              "      <td>0</td>\n",
              "    </tr>\n",
              "  </tbody>\n",
              "</table>\n",
              "<p>8269867 rows × 15 columns</p>\n",
              "</div>\n",
              "      <button class=\"colab-df-convert\" onclick=\"convertToInteractive('df-5791de8d-4b45-4173-82eb-878bbc4ca28a')\"\n",
              "              title=\"Convert this dataframe to an interactive table.\"\n",
              "              style=\"display:none;\">\n",
              "        \n",
              "  <svg xmlns=\"http://www.w3.org/2000/svg\" height=\"24px\"viewBox=\"0 0 24 24\"\n",
              "       width=\"24px\">\n",
              "    <path d=\"M0 0h24v24H0V0z\" fill=\"none\"/>\n",
              "    <path d=\"M18.56 5.44l.94 2.06.94-2.06 2.06-.94-2.06-.94-.94-2.06-.94 2.06-2.06.94zm-11 1L8.5 8.5l.94-2.06 2.06-.94-2.06-.94L8.5 2.5l-.94 2.06-2.06.94zm10 10l.94 2.06.94-2.06 2.06-.94-2.06-.94-.94-2.06-.94 2.06-2.06.94z\"/><path d=\"M17.41 7.96l-1.37-1.37c-.4-.4-.92-.59-1.43-.59-.52 0-1.04.2-1.43.59L10.3 9.45l-7.72 7.72c-.78.78-.78 2.05 0 2.83L4 21.41c.39.39.9.59 1.41.59.51 0 1.02-.2 1.41-.59l7.78-7.78 2.81-2.81c.8-.78.8-2.07 0-2.86zM5.41 20L4 18.59l7.72-7.72 1.47 1.35L5.41 20z\"/>\n",
              "  </svg>\n",
              "      </button>\n",
              "      \n",
              "  <style>\n",
              "    .colab-df-container {\n",
              "      display:flex;\n",
              "      flex-wrap:wrap;\n",
              "      gap: 12px;\n",
              "    }\n",
              "\n",
              "    .colab-df-convert {\n",
              "      background-color: #E8F0FE;\n",
              "      border: none;\n",
              "      border-radius: 50%;\n",
              "      cursor: pointer;\n",
              "      display: none;\n",
              "      fill: #1967D2;\n",
              "      height: 32px;\n",
              "      padding: 0 0 0 0;\n",
              "      width: 32px;\n",
              "    }\n",
              "\n",
              "    .colab-df-convert:hover {\n",
              "      background-color: #E2EBFA;\n",
              "      box-shadow: 0px 1px 2px rgba(60, 64, 67, 0.3), 0px 1px 3px 1px rgba(60, 64, 67, 0.15);\n",
              "      fill: #174EA6;\n",
              "    }\n",
              "\n",
              "    [theme=dark] .colab-df-convert {\n",
              "      background-color: #3B4455;\n",
              "      fill: #D2E3FC;\n",
              "    }\n",
              "\n",
              "    [theme=dark] .colab-df-convert:hover {\n",
              "      background-color: #434B5C;\n",
              "      box-shadow: 0px 1px 3px 1px rgba(0, 0, 0, 0.15);\n",
              "      filter: drop-shadow(0px 1px 2px rgba(0, 0, 0, 0.3));\n",
              "      fill: #FFFFFF;\n",
              "    }\n",
              "  </style>\n",
              "\n",
              "      <script>\n",
              "        const buttonEl =\n",
              "          document.querySelector('#df-5791de8d-4b45-4173-82eb-878bbc4ca28a button.colab-df-convert');\n",
              "        buttonEl.style.display =\n",
              "          google.colab.kernel.accessAllowed ? 'block' : 'none';\n",
              "\n",
              "        async function convertToInteractive(key) {\n",
              "          const element = document.querySelector('#df-5791de8d-4b45-4173-82eb-878bbc4ca28a');\n",
              "          const dataTable =\n",
              "            await google.colab.kernel.invokeFunction('convertToInteractive',\n",
              "                                                     [key], {});\n",
              "          if (!dataTable) return;\n",
              "\n",
              "          const docLinkHtml = 'Like what you see? Visit the ' +\n",
              "            '<a target=\"_blank\" href=https://colab.research.google.com/notebooks/data_table.ipynb>data table notebook</a>'\n",
              "            + ' to learn more about interactive tables.';\n",
              "          element.innerHTML = '';\n",
              "          dataTable['output_type'] = 'display_data';\n",
              "          await google.colab.output.renderOutput(dataTable, element);\n",
              "          const docLink = document.createElement('div');\n",
              "          docLink.innerHTML = docLinkHtml;\n",
              "          element.appendChild(docLink);\n",
              "        }\n",
              "      </script>\n",
              "    </div>\n",
              "  </div>\n",
              "  "
            ]
          },
          "metadata": {},
          "execution_count": 7
        }
      ],
      "source": [
        "train_df['Return'] = 1 + (train_df.Close - train_df.Open)/train_df.Open\n",
        "train_df['Day_of_week'] = train_df['Date'].dt.weekday\n",
        "train_df = pd.concat([train_df,pd.get_dummies(train_df.Day_of_week, prefix='weekday')], axis=1)\n",
        "\n",
        "test_df['Return'] = 1 + (test_df.Close - test_df.Open)/test_df.Open\n",
        "test_df['Day_of_week'] = test_df['Date'].dt.weekday\n",
        "test_df = pd.concat([test_df,pd.get_dummies(test_df.Day_of_week, prefix='weekday')], axis=1)\n",
        "\n",
        "train_df"
      ]
    },
    {
      "cell_type": "code",
      "execution_count": 8,
      "metadata": {
        "colab": {
          "base_uri": "https://localhost:8080/",
          "height": 659
        },
        "id": "is-CKannF6U7",
        "outputId": "a0ae2840-5b78-4097-a140-597de09c1bbf"
      },
      "outputs": [
        {
          "output_type": "execute_result",
          "data": {
            "text/plain": [
              "               Date       Low      Open    Volume      High     Close  \\\n",
              "0        1990-06-28  0.078766  0.079754  0.000024  0.079754  0.078766   \n",
              "1        1990-06-29  0.079013  0.079260  0.000009  0.079507  0.079507   \n",
              "2        1990-07-02  0.079013  0.079013  0.000008  0.079260  0.079260   \n",
              "3        1990-07-03  0.079260  0.079260  0.000004  0.079507  0.079507   \n",
              "4        1990-07-05  0.076297  0.076791  0.000004  0.076791  0.076544   \n",
              "...             ...       ...       ...       ...       ...       ...   \n",
              "18936070 2015-12-24  0.568418  0.568497  0.000033  0.573396  0.571657   \n",
              "18936071 2015-12-28  0.567075  0.570235  0.000060  0.572447  0.571894   \n",
              "18936072 2015-12-29  0.571499  0.574897  0.000036  0.579796  0.575608   \n",
              "18936073 2015-12-30  0.572764  0.574107  0.000033  0.580270  0.573554   \n",
              "18936074 2015-12-31  0.569524  0.571973  0.000045  0.577504  0.569919   \n",
              "\n",
              "          Adjusted Close Symbol    Return  Day_of_week  weekday_0  weekday_1  \\\n",
              "0               0.017502    RIO  0.987616            3          0          0   \n",
              "1               0.017667    RIO  1.003115            4          0          0   \n",
              "2               0.017612    RIO  1.003125            0          1          0   \n",
              "3               0.017667    RIO  1.003115            1          0          1   \n",
              "4               0.017008    RIO  0.996785            3          0          0   \n",
              "...                  ...    ...       ...          ...        ...        ...   \n",
              "18936070        0.535084   MSCI  1.005559            3          0          0   \n",
              "18936071        0.535306   MSCI  1.002910            0          1          0   \n",
              "18936072        0.538782   MSCI  1.001237            1          0          1   \n",
              "18936073        0.536859   MSCI  0.999037            2          0          0   \n",
              "18936074        0.533457   MSCI  0.996408            3          0          0   \n",
              "\n",
              "          weekday_2  weekday_3  weekday_4  \n",
              "0                 0          1          0  \n",
              "1                 0          0          1  \n",
              "2                 0          0          0  \n",
              "3                 0          0          0  \n",
              "4                 0          1          0  \n",
              "...             ...        ...        ...  \n",
              "18936070          0          1          0  \n",
              "18936071          0          0          0  \n",
              "18936072          0          0          0  \n",
              "18936073          1          0          0  \n",
              "18936074          0          1          0  \n",
              "\n",
              "[8269867 rows x 15 columns]"
            ],
            "text/html": [
              "\n",
              "  <div id=\"df-3aaa137a-7ae9-43e1-8a20-f35ebc0f9edb\">\n",
              "    <div class=\"colab-df-container\">\n",
              "      <div>\n",
              "<style scoped>\n",
              "    .dataframe tbody tr th:only-of-type {\n",
              "        vertical-align: middle;\n",
              "    }\n",
              "\n",
              "    .dataframe tbody tr th {\n",
              "        vertical-align: top;\n",
              "    }\n",
              "\n",
              "    .dataframe thead th {\n",
              "        text-align: right;\n",
              "    }\n",
              "</style>\n",
              "<table border=\"1\" class=\"dataframe\">\n",
              "  <thead>\n",
              "    <tr style=\"text-align: right;\">\n",
              "      <th></th>\n",
              "      <th>Date</th>\n",
              "      <th>Low</th>\n",
              "      <th>Open</th>\n",
              "      <th>Volume</th>\n",
              "      <th>High</th>\n",
              "      <th>Close</th>\n",
              "      <th>Adjusted Close</th>\n",
              "      <th>Symbol</th>\n",
              "      <th>Return</th>\n",
              "      <th>Day_of_week</th>\n",
              "      <th>weekday_0</th>\n",
              "      <th>weekday_1</th>\n",
              "      <th>weekday_2</th>\n",
              "      <th>weekday_3</th>\n",
              "      <th>weekday_4</th>\n",
              "    </tr>\n",
              "  </thead>\n",
              "  <tbody>\n",
              "    <tr>\n",
              "      <th>0</th>\n",
              "      <td>1990-06-28</td>\n",
              "      <td>0.078766</td>\n",
              "      <td>0.079754</td>\n",
              "      <td>0.000024</td>\n",
              "      <td>0.079754</td>\n",
              "      <td>0.078766</td>\n",
              "      <td>0.017502</td>\n",
              "      <td>RIO</td>\n",
              "      <td>0.987616</td>\n",
              "      <td>3</td>\n",
              "      <td>0</td>\n",
              "      <td>0</td>\n",
              "      <td>0</td>\n",
              "      <td>1</td>\n",
              "      <td>0</td>\n",
              "    </tr>\n",
              "    <tr>\n",
              "      <th>1</th>\n",
              "      <td>1990-06-29</td>\n",
              "      <td>0.079013</td>\n",
              "      <td>0.079260</td>\n",
              "      <td>0.000009</td>\n",
              "      <td>0.079507</td>\n",
              "      <td>0.079507</td>\n",
              "      <td>0.017667</td>\n",
              "      <td>RIO</td>\n",
              "      <td>1.003115</td>\n",
              "      <td>4</td>\n",
              "      <td>0</td>\n",
              "      <td>0</td>\n",
              "      <td>0</td>\n",
              "      <td>0</td>\n",
              "      <td>1</td>\n",
              "    </tr>\n",
              "    <tr>\n",
              "      <th>2</th>\n",
              "      <td>1990-07-02</td>\n",
              "      <td>0.079013</td>\n",
              "      <td>0.079013</td>\n",
              "      <td>0.000008</td>\n",
              "      <td>0.079260</td>\n",
              "      <td>0.079260</td>\n",
              "      <td>0.017612</td>\n",
              "      <td>RIO</td>\n",
              "      <td>1.003125</td>\n",
              "      <td>0</td>\n",
              "      <td>1</td>\n",
              "      <td>0</td>\n",
              "      <td>0</td>\n",
              "      <td>0</td>\n",
              "      <td>0</td>\n",
              "    </tr>\n",
              "    <tr>\n",
              "      <th>3</th>\n",
              "      <td>1990-07-03</td>\n",
              "      <td>0.079260</td>\n",
              "      <td>0.079260</td>\n",
              "      <td>0.000004</td>\n",
              "      <td>0.079507</td>\n",
              "      <td>0.079507</td>\n",
              "      <td>0.017667</td>\n",
              "      <td>RIO</td>\n",
              "      <td>1.003115</td>\n",
              "      <td>1</td>\n",
              "      <td>0</td>\n",
              "      <td>1</td>\n",
              "      <td>0</td>\n",
              "      <td>0</td>\n",
              "      <td>0</td>\n",
              "    </tr>\n",
              "    <tr>\n",
              "      <th>4</th>\n",
              "      <td>1990-07-05</td>\n",
              "      <td>0.076297</td>\n",
              "      <td>0.076791</td>\n",
              "      <td>0.000004</td>\n",
              "      <td>0.076791</td>\n",
              "      <td>0.076544</td>\n",
              "      <td>0.017008</td>\n",
              "      <td>RIO</td>\n",
              "      <td>0.996785</td>\n",
              "      <td>3</td>\n",
              "      <td>0</td>\n",
              "      <td>0</td>\n",
              "      <td>0</td>\n",
              "      <td>1</td>\n",
              "      <td>0</td>\n",
              "    </tr>\n",
              "    <tr>\n",
              "      <th>...</th>\n",
              "      <td>...</td>\n",
              "      <td>...</td>\n",
              "      <td>...</td>\n",
              "      <td>...</td>\n",
              "      <td>...</td>\n",
              "      <td>...</td>\n",
              "      <td>...</td>\n",
              "      <td>...</td>\n",
              "      <td>...</td>\n",
              "      <td>...</td>\n",
              "      <td>...</td>\n",
              "      <td>...</td>\n",
              "      <td>...</td>\n",
              "      <td>...</td>\n",
              "      <td>...</td>\n",
              "    </tr>\n",
              "    <tr>\n",
              "      <th>18936070</th>\n",
              "      <td>2015-12-24</td>\n",
              "      <td>0.568418</td>\n",
              "      <td>0.568497</td>\n",
              "      <td>0.000033</td>\n",
              "      <td>0.573396</td>\n",
              "      <td>0.571657</td>\n",
              "      <td>0.535084</td>\n",
              "      <td>MSCI</td>\n",
              "      <td>1.005559</td>\n",
              "      <td>3</td>\n",
              "      <td>0</td>\n",
              "      <td>0</td>\n",
              "      <td>0</td>\n",
              "      <td>1</td>\n",
              "      <td>0</td>\n",
              "    </tr>\n",
              "    <tr>\n",
              "      <th>18936071</th>\n",
              "      <td>2015-12-28</td>\n",
              "      <td>0.567075</td>\n",
              "      <td>0.570235</td>\n",
              "      <td>0.000060</td>\n",
              "      <td>0.572447</td>\n",
              "      <td>0.571894</td>\n",
              "      <td>0.535306</td>\n",
              "      <td>MSCI</td>\n",
              "      <td>1.002910</td>\n",
              "      <td>0</td>\n",
              "      <td>1</td>\n",
              "      <td>0</td>\n",
              "      <td>0</td>\n",
              "      <td>0</td>\n",
              "      <td>0</td>\n",
              "    </tr>\n",
              "    <tr>\n",
              "      <th>18936072</th>\n",
              "      <td>2015-12-29</td>\n",
              "      <td>0.571499</td>\n",
              "      <td>0.574897</td>\n",
              "      <td>0.000036</td>\n",
              "      <td>0.579796</td>\n",
              "      <td>0.575608</td>\n",
              "      <td>0.538782</td>\n",
              "      <td>MSCI</td>\n",
              "      <td>1.001237</td>\n",
              "      <td>1</td>\n",
              "      <td>0</td>\n",
              "      <td>1</td>\n",
              "      <td>0</td>\n",
              "      <td>0</td>\n",
              "      <td>0</td>\n",
              "    </tr>\n",
              "    <tr>\n",
              "      <th>18936073</th>\n",
              "      <td>2015-12-30</td>\n",
              "      <td>0.572764</td>\n",
              "      <td>0.574107</td>\n",
              "      <td>0.000033</td>\n",
              "      <td>0.580270</td>\n",
              "      <td>0.573554</td>\n",
              "      <td>0.536859</td>\n",
              "      <td>MSCI</td>\n",
              "      <td>0.999037</td>\n",
              "      <td>2</td>\n",
              "      <td>0</td>\n",
              "      <td>0</td>\n",
              "      <td>1</td>\n",
              "      <td>0</td>\n",
              "      <td>0</td>\n",
              "    </tr>\n",
              "    <tr>\n",
              "      <th>18936074</th>\n",
              "      <td>2015-12-31</td>\n",
              "      <td>0.569524</td>\n",
              "      <td>0.571973</td>\n",
              "      <td>0.000045</td>\n",
              "      <td>0.577504</td>\n",
              "      <td>0.569919</td>\n",
              "      <td>0.533457</td>\n",
              "      <td>MSCI</td>\n",
              "      <td>0.996408</td>\n",
              "      <td>3</td>\n",
              "      <td>0</td>\n",
              "      <td>0</td>\n",
              "      <td>0</td>\n",
              "      <td>1</td>\n",
              "      <td>0</td>\n",
              "    </tr>\n",
              "  </tbody>\n",
              "</table>\n",
              "<p>8269867 rows × 15 columns</p>\n",
              "</div>\n",
              "      <button class=\"colab-df-convert\" onclick=\"convertToInteractive('df-3aaa137a-7ae9-43e1-8a20-f35ebc0f9edb')\"\n",
              "              title=\"Convert this dataframe to an interactive table.\"\n",
              "              style=\"display:none;\">\n",
              "        \n",
              "  <svg xmlns=\"http://www.w3.org/2000/svg\" height=\"24px\"viewBox=\"0 0 24 24\"\n",
              "       width=\"24px\">\n",
              "    <path d=\"M0 0h24v24H0V0z\" fill=\"none\"/>\n",
              "    <path d=\"M18.56 5.44l.94 2.06.94-2.06 2.06-.94-2.06-.94-.94-2.06-.94 2.06-2.06.94zm-11 1L8.5 8.5l.94-2.06 2.06-.94-2.06-.94L8.5 2.5l-.94 2.06-2.06.94zm10 10l.94 2.06.94-2.06 2.06-.94-2.06-.94-.94-2.06-.94 2.06-2.06.94z\"/><path d=\"M17.41 7.96l-1.37-1.37c-.4-.4-.92-.59-1.43-.59-.52 0-1.04.2-1.43.59L10.3 9.45l-7.72 7.72c-.78.78-.78 2.05 0 2.83L4 21.41c.39.39.9.59 1.41.59.51 0 1.02-.2 1.41-.59l7.78-7.78 2.81-2.81c.8-.78.8-2.07 0-2.86zM5.41 20L4 18.59l7.72-7.72 1.47 1.35L5.41 20z\"/>\n",
              "  </svg>\n",
              "      </button>\n",
              "      \n",
              "  <style>\n",
              "    .colab-df-container {\n",
              "      display:flex;\n",
              "      flex-wrap:wrap;\n",
              "      gap: 12px;\n",
              "    }\n",
              "\n",
              "    .colab-df-convert {\n",
              "      background-color: #E8F0FE;\n",
              "      border: none;\n",
              "      border-radius: 50%;\n",
              "      cursor: pointer;\n",
              "      display: none;\n",
              "      fill: #1967D2;\n",
              "      height: 32px;\n",
              "      padding: 0 0 0 0;\n",
              "      width: 32px;\n",
              "    }\n",
              "\n",
              "    .colab-df-convert:hover {\n",
              "      background-color: #E2EBFA;\n",
              "      box-shadow: 0px 1px 2px rgba(60, 64, 67, 0.3), 0px 1px 3px 1px rgba(60, 64, 67, 0.15);\n",
              "      fill: #174EA6;\n",
              "    }\n",
              "\n",
              "    [theme=dark] .colab-df-convert {\n",
              "      background-color: #3B4455;\n",
              "      fill: #D2E3FC;\n",
              "    }\n",
              "\n",
              "    [theme=dark] .colab-df-convert:hover {\n",
              "      background-color: #434B5C;\n",
              "      box-shadow: 0px 1px 3px 1px rgba(0, 0, 0, 0.15);\n",
              "      filter: drop-shadow(0px 1px 2px rgba(0, 0, 0, 0.3));\n",
              "      fill: #FFFFFF;\n",
              "    }\n",
              "  </style>\n",
              "\n",
              "      <script>\n",
              "        const buttonEl =\n",
              "          document.querySelector('#df-3aaa137a-7ae9-43e1-8a20-f35ebc0f9edb button.colab-df-convert');\n",
              "        buttonEl.style.display =\n",
              "          google.colab.kernel.accessAllowed ? 'block' : 'none';\n",
              "\n",
              "        async function convertToInteractive(key) {\n",
              "          const element = document.querySelector('#df-3aaa137a-7ae9-43e1-8a20-f35ebc0f9edb');\n",
              "          const dataTable =\n",
              "            await google.colab.kernel.invokeFunction('convertToInteractive',\n",
              "                                                     [key], {});\n",
              "          if (!dataTable) return;\n",
              "\n",
              "          const docLinkHtml = 'Like what you see? Visit the ' +\n",
              "            '<a target=\"_blank\" href=https://colab.research.google.com/notebooks/data_table.ipynb>data table notebook</a>'\n",
              "            + ' to learn more about interactive tables.';\n",
              "          element.innerHTML = '';\n",
              "          dataTable['output_type'] = 'display_data';\n",
              "          await google.colab.output.renderOutput(dataTable, element);\n",
              "          const docLink = document.createElement('div');\n",
              "          docLink.innerHTML = docLinkHtml;\n",
              "          element.appendChild(docLink);\n",
              "        }\n",
              "      </script>\n",
              "    </div>\n",
              "  </div>\n",
              "  "
            ]
          },
          "metadata": {},
          "execution_count": 8
        }
      ],
      "source": [
        "import pandas as pd\n",
        "from sklearn import preprocessing\n",
        "\n",
        "#This contains processing that gets applied to the data to keep distributiosn similar in the inputs\n",
        "#It will get refactored to src as well\n",
        "sing_fact_scale = ['Open','Low','High','Close','Adjusted Close'] #Note there should be other features that do this stock dependent\n",
        "cols_to_scale = ['Volume']\n",
        "train_open_mean = train_df['Open'].mean()\n",
        "train_df[sing_fact_scale] = train_df[sing_fact_scale] / train_open_mean\n",
        "x = train_df[cols_to_scale].values #returns a numpy array\n",
        "min_max_scaler = preprocessing.MinMaxScaler()\n",
        "x_scaled = min_max_scaler.fit_transform(x)\n",
        "train_df[cols_to_scale] = x_scaled\n",
        "\n",
        "test_df[sing_fact_scale] = test_df[sing_fact_scale] / train_open_mean #Replicating what was \n",
        "x = test_df[cols_to_scale].values #returns a numpy array\n",
        "x_scaled = min_max_scaler.transform(x)\n",
        "test_df[cols_to_scale] = x_scaled\n",
        "\n",
        "train_df"
      ]
    },
    {
      "cell_type": "code",
      "execution_count": 9,
      "metadata": {
        "id": "8Tu9UXMLAc_8"
      },
      "outputs": [],
      "source": [
        "train_val_split = int(len(train_df)*.8)\n",
        "#TODO Improve the splits\n",
        "val_df = train_df[train_val_split:]\n",
        "train_df = train_df[:train_val_split]"
      ]
    },
    {
      "cell_type": "code",
      "execution_count": 10,
      "metadata": {
        "id": "hRJWBqVozKvW"
      },
      "outputs": [],
      "source": [
        "from nlptrading.src.models.LSTM import LSTMModel"
      ]
    },
    {
      "cell_type": "code",
      "execution_count": 11,
      "metadata": {
        "id": "tRS4JGZ14pTx"
      },
      "outputs": [],
      "source": [
        "\n",
        "config = {\n",
        "    # \"alpha_vantage\": {\n",
        "    #     \"key\": \"YOUR_API_KEY\", # Claim your free API key here: https://www.alphavantage.co/support/#api-key\n",
        "    #     \"symbol\": \"IBM\",\n",
        "    #     \"outputsize\": \"full\",\n",
        "    #     \"key_adjusted_close\": \"5. adjusted close\",\n",
        "    # },\n",
        "    # \"data\": {\n",
        "    #     \"window_size\": 20,\n",
        "    #     \"train_split_size\": 0.80,\n",
        "    # }, \n",
        "    # \"plots\": {\n",
        "    #     \"show_plots\": True,\n",
        "    #     \"xticks_interval\": 90,\n",
        "    #     \"color_actual\": \"#001f3f\",\n",
        "    #     \"color_train\": \"#3D9970\",\n",
        "    #     \"color_val\": \"#0074D9\",\n",
        "    #     \"color_pred_train\": \"#3D9970\",\n",
        "    #     \"color_pred_val\": \"#0074D9\",\n",
        "    #     \"color_pred_test\": \"#FF4136\",\n",
        "    # },\n",
        "    \"model\": {\n",
        "        \"input_size\": 6, # since we are only using 6 features, close price\n",
        "        \"static_input_size\": 2,\n",
        "        \"num_lstm_layers\": 2,\n",
        "        \"lstm_size\": 32,\n",
        "        \"dropout\": 0.2,\n",
        "    },\n",
        "    \"training\": {\n",
        "        \"device\": \"cuda\", # \"cuda\" or \"cpu\"\n",
        "        #\"device\": xm.xla_device(),\n",
        "        \"batch_size\": 64,\n",
        "        \"num_epoch\": 5,\n",
        "        \"learning_rate\": 0.001,\n",
        "        \"scheduler_step_size\": 40,\n",
        "    }\n",
        "}"
      ]
    },
    {
      "cell_type": "code",
      "execution_count": 12,
      "metadata": {
        "id": "Io0iy21h18LX"
      },
      "outputs": [],
      "source": [
        "model = LSTMModel(input_size=config[\"model\"][\"input_size\"], \n",
        "                  static_input_size=config[\"model\"][\"static_input_size\"], \n",
        "                  hidden_layer_size=config[\"model\"][\"lstm_size\"], \n",
        "                  num_layers=config[\"model\"][\"num_lstm_layers\"], \n",
        "                  output_size=1, \n",
        "                  dropout=config[\"model\"][\"dropout\"])\n",
        "model = model.to(config[\"training\"][\"device\"])"
      ]
    },
    {
      "cell_type": "code",
      "execution_count": 14,
      "metadata": {
        "id": "QTeNY5Tc_ddv"
      },
      "outputs": [],
      "source": [
        "import torch.optim as optim\n",
        "from torch import nn\n",
        "\n",
        "criterion = nn.MSELoss()\n",
        "optimizer = optim.Adam(model.parameters(), lr=config[\"training\"][\"learning_rate\"], betas=(0.9, 0.98), eps=1e-9)\n",
        "scheduler = optim.lr_scheduler.StepLR(optimizer, step_size=config[\"training\"][\"scheduler_step_size\"], gamma=0.1)"
      ]
    },
    {
      "cell_type": "code",
      "execution_count": 15,
      "metadata": {
        "id": "2KrDXZp92Dhm"
      },
      "outputs": [],
      "source": [
        "def run_epoch(dataloader, is_training=False):\n",
        "    epoch_loss = 0\n",
        "    temp_loss = 0\n",
        "\n",
        "    if is_training:\n",
        "        model.train()\n",
        "    else:\n",
        "        model.eval()\n",
        "\n",
        "    for idx, (x1, x2, y) in enumerate(tqdm(dataloader)):\n",
        "        if is_training:\n",
        "            optimizer.zero_grad()\n",
        "\n",
        "        batchsize = x1.shape[0]\n",
        "\n",
        "        x1 = x1.to(config[\"training\"][\"device\"])\n",
        "        x2 = x2.to(config[\"training\"][\"device\"])\n",
        "        y = y.to(config[\"training\"][\"device\"])\n",
        "\n",
        "        out = model(x1,x2)\n",
        "        loss = criterion(out.contiguous(), y.contiguous())\n",
        "\n",
        "        if is_training:\n",
        "            loss.backward()\n",
        "            optimizer.step()\n",
        "          \n",
        "        epoch_loss += (loss.detach().item() / batchsize)\n",
        "        temp_loss += (loss.detach().item() / batchsize)\n",
        "\n",
        "        if(idx%10000 == 9999):\n",
        "          print(temp_loss / 10000)\n",
        "          temp_loss = 0 #TODO: Connect with wandb\n",
        "\n",
        "\n",
        "    lr = scheduler.get_last_lr()[0]\n",
        "\n",
        "    return epoch_loss, lr"
      ]
    },
    {
      "cell_type": "code",
      "execution_count": 22,
      "metadata": {
        "id": "OWwXMM_G7GAf"
      },
      "outputs": [],
      "source": [
        "from tqdm import tqdm\n",
        "import torch\n",
        "\n",
        "def predict(dataloader):\n",
        "  predictions = []\n",
        "  actuals = []\n",
        "  optimizer.zero_grad()\n",
        "  model.eval()\n",
        "\n",
        "  for idx, (x1, x2, y) in enumerate(tqdm(dataloader)):\n",
        "    batchsize = x1.shape[0]\n",
        "\n",
        "    x1 = x1.to(config[\"training\"][\"device\"])\n",
        "    x2 = x2.to(config[\"training\"][\"device\"])\n",
        "    y = y.to(config[\"training\"][\"device\"])\n",
        "\n",
        "    out = model(x1,x2)\n",
        "    predictions.append(out.detach())\n",
        "    actuals.append(y)\n",
        "  return torch.cat(predictions).cpu(), torch.cat(actuals).cpu()"
      ]
    },
    {
      "cell_type": "code",
      "execution_count": 23,
      "metadata": {
        "id": "cGOzeO3I_nT9"
      },
      "outputs": [],
      "source": [
        "from nlptrading.src.dataloaders.stock_price import get_loader\n",
        "\n",
        "train_dataloader = get_loader(train_df, batch_size=config[\"training\"][\"batch_size\"], shuffle=True)\n",
        "val_dataloader = get_loader(val_df, batch_size=config[\"training\"][\"batch_size\"], shuffle=True)\n",
        "test_dataloader = get_loader(test_df, batch_size=config[\"training\"][\"batch_size\"], shuffle=False)"
      ]
    },
    {
      "cell_type": "code",
      "execution_count": 19,
      "metadata": {
        "colab": {
          "base_uri": "https://localhost:8080/"
        },
        "id": "5KlsABW_EryC",
        "outputId": "22a02e53-29b3-4dad-8764-1e444644950e"
      },
      "outputs": [
        {
          "output_type": "stream",
          "name": "stdout",
          "text": [
            "103373.328125\n"
          ]
        }
      ],
      "source": [
        "print(len(train_df)/config['training']['batch_size'])"
      ]
    },
    {
      "cell_type": "code",
      "execution_count": null,
      "metadata": {
        "id": "hjy7BpwE_6fH"
      },
      "outputs": [],
      "source": [
        "# begin training\n",
        "# Takes like 10 min to run an epoch w a GPU\n",
        "for epoch in range(config[\"training\"][\"num_epoch\"]):\n",
        "    print('training')\n",
        "    loss_train, lr_train = run_epoch(train_dataloader, is_training=True)\n",
        "    print('validating')\n",
        "    loss_val, lr_val = run_epoch(val_dataloader)\n",
        "    scheduler.step()\n",
        "\n",
        "    t_loss = loss_train/len(train_df)*config['training']['batch_size']\n",
        "    v_loss = loss_val/len(val_df)*config['training']['batch_size']\n",
        "\n",
        "    print('Epoch[{}/{}] | loss train:{:.6f}, val:{:.6f} | lr:{:.6f}'\n",
        "              .format(epoch+1, config[\"training\"][\"num_epoch\"], t_loss, v_loss, lr_train))"
      ]
    },
    {
      "cell_type": "code",
      "execution_count": null,
      "metadata": {
        "colab": {
          "base_uri": "https://localhost:8080/"
        },
        "id": "UV1EtPq6sMHJ",
        "outputId": "d565de57-ea8f-48a5-c4e8-3da8b9cdc093"
      },
      "outputs": [
        {
          "output_type": "stream",
          "name": "stderr",
          "text": [
            " 26%|██▌       | 13409/51921 [00:18<00:53, 718.34it/s]"
          ]
        }
      ],
      "source": [
        "pred, actual = predict(test_dataloader) #takes a min and a half"
      ]
    },
    {
      "cell_type": "markdown",
      "metadata": {
        "id": "2_oSA5o7Hade"
      },
      "source": [
        "Notice that the plot shows all of the predictions to be clumped closely together"
      ]
    },
    {
      "cell_type": "code",
      "execution_count": null,
      "metadata": {
        "colab": {
          "base_uri": "https://localhost:8080/",
          "height": 296
        },
        "id": "F3T2-CZn9wHY",
        "outputId": "3dc553e8-b557-4408-9df7-5f175124ae23"
      },
      "outputs": [
        {
          "data": {
            "text/plain": [
              "<matplotlib.collections.PathCollection at 0x7f4f8c67ccd0>"
            ]
          },
          "execution_count": 126,
          "metadata": {},
          "output_type": "execute_result"
        },
        {
          "data": {
            "image/png": "[encoded data removed]",
            "text/plain": [
              "<Figure size 432x288 with 1 Axes>"
            ]
          },
          "metadata": {
            "needs_background": "light"
          },
          "output_type": "display_data"
        }
      ],
      "source": [
        "import matplotlib.pyplot as plt\n",
        "plt.scatter(pred[-1000:],actual[-1000:])"
      ]
    }
  ],
  "metadata": {
    "accelerator": "GPU",
    "colab": {
      "collapsed_sections": [],
      "name": "first run.ipynb",
      "provenance": []
    },
    "kernelspec": {
      "display_name": "Python 3.8.13 ('nlptrading')",
      "language": "python",
      "name": "python3"
    },
    "language_info": {
      "codemirror_mode": {
        "name": "ipython",
        "version": 3
      },
      "file_extension": ".py",
      "mimetype": "text/x-python",
      "name": "python",
      "nbconvert_exporter": "python",
      "pygments_lexer": "ipython3",
      "version": "3.8.13"
    },
    "vscode": {
      "interpreter": {
        "hash": "7ade331ed4cfc4c1dd833932ca4efce6ebead6491616f20a2670eb2d820e5583"
      }
    }
  },
  "nbformat": 4,
  "nbformat_minor": 0
}